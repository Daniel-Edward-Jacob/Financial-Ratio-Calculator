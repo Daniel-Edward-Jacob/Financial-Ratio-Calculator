{
 "cells": [
  {
   "cell_type": "code",
   "execution_count": 15,
   "metadata": {},
   "outputs": [
    {
     "data": {
      "text/plain": [
       "True"
      ]
     },
     "execution_count": 15,
     "metadata": {},
     "output_type": "execute_result"
    }
   ],
   "source": [
    "import requests\n",
    "import os\n",
    "from dotenv import load_dotenv\n",
    "load_dotenv()"
   ]
  },
  {
   "cell_type": "code",
   "execution_count": 16,
   "metadata": {},
   "outputs": [
    {
     "name": "stdout",
     "output_type": "stream",
     "text": [
      "APC.F\n"
     ]
    }
   ],
   "source": [
    "ratio_key = os.getenv(\"RATIO_API_KEY\")\n",
    "company_name=input('Company name: ')\n",
    "Company_profile=requests.get(f'https://financialmodelingprep.com/api/v3/search?query={company_name}&apikey={ratio_key}')\n",
    "symbol=Company_profile.json()[0]['symbol']\n",
    "print(symbol)"
   ]
  },
  {
   "cell_type": "code",
   "execution_count": 17,
   "metadata": {},
   "outputs": [
    {
     "name": "stdout",
     "output_type": "stream",
     "text": [
      "Company Name: apple\n",
      " Liquidity Ratios:\n",
      "2023-09-30\n",
      "Current Ratio: 0.9880116717592975\n",
      "A current ratio of 0.9880116717592975 is below 1. This means that the company may not have enough liquid assets to cover its short-term liabilities.\n",
      "Acid Test Ratio: 0.9444421504665951\n",
      "An acid test ratio of 0.9444421504665951 means that the company does not have enough liquid assets to cover its short-term debts\n",
      "Operating Cash Flow: 0.7607495802020535\n",
      "An operating Cash Flow of less than one indicates that a company s core business operations are not generating enough cash to cover its current operating expenses.\n",
      "Profitability Ratios:\n",
      "Gross Profit Ratio: 44.13112958 %\n",
      "this is the data of apple, 2023-09-30, Current Ratio: 0.9880116717592975, A current ratio of 0.9880116717592975 is below 1. This means that the company may not have enough liquid assets to cover its short-term liabilities., Acid Test Ratio: 0.9444421504665951, Operating Cash Flow: 0.7607495802020535 ,An operating Cash Flow of less than one indicates that a company s core business operations are not generating enough cash to cover its current operating expenses. ,Profitability Ratios: Gross Profit Ratio: 44.13112958 %this is the data of apple,  {'symbol': 'APC.F', 'date': '2023-09-30', 'calendarYear': '2023', 'period': 'FY', 'currentRatio': 0.9880116717592975, 'quickRatio': 0.8433121369780053, 'cashRatio': 0.20621713876730807, 'daysOfSalesOutstanding': 58.07564866874519, 'daysOfInventoryOutstanding': 10.791292490321615, 'operatingCycle': 68.8669411590668, 'daysOfPayablesOutstanding': 106.72146803214763, 'cashConversionCycle': -37.85452687308083, 'grossProfitMargin': 0.4413112957720756, 'operatingProfitMargin': 0.2982141226502472, 'pretaxProfitMargin': 0.296740023742124, 'netProfitMargin': 0.2530623426432028, 'effectiveTaxRate': 0.14719174228036858, 'returnOnAssets': 0.27509834563776475, 'returnOnEquity': 1.5607601454639075, 'returnOnCapitalEmployed': 0.551446146423833, 'netIncomePerEBT': 0.8528082577196314, 'ebtPerEbit': 0.9950569111381353, 'ebitPerRevenue': 0.2982141226502472, 'debtRatio': 0.3150690759338936, 'debtEquityRatio': 1.7875325845589418, 'longTermDebtToCapitalization': 0.6052392537493568, 'totalDebtToCapitalization': 0.6412597988847455, 'interestCoverage': 29.062039155860667, 'cashFlowToDebtRatio': 0.9950939795477459, 'companyEquityMultiplier': 5.673462491552152, 'receivablesTurnover': 6.284906124456834, 'payablesTurnover': 3.420117870661705, 'inventoryTurnover': 33.82356657716001, 'fixedAssetTurnover': 8.767814251401122, 'assetTurnover': 1.087077369016657, 'operatingCashFlowPerShare': 7.021174930677783, 'freeCashFlowPerShare': 6.325110448392176, 'cashPerShare': 3.9096860303942442, 'payoutRatio': 0.1549048920047425, 'operatingCashFlowSalesRatio': 0.28840940814276583, 'freeCashFlowOperatingCashFlowRatio': 0.9008621079579892, 'cashFlowCoverageRatios': 0.9950939795477459, 'shortTermCoverageRatios': 6.9932941102043396, 'capitalExpenditureCoverageRatio': -10.08696048909572, 'dividendPaidAndCapexCoverageRatio': 27.187161829808165, 'dividendPayoutRatio': 0.1549048920047425, 'priceBookValueRatio': 43.423433235638655, 'priceToBookRatio': 43.423433235638655, 'priceToSalesRatio': 7.040694735932791, 'priceEarningsRatio': 27.821977234517238, 'priceToFreeCashFlowsRatio': 27.098657232708067, 'priceToOperatingCashFlowsRatio': 24.412153477488395, 'priceCashFlowRatio': 24.412153477488395, 'priceEarningsToGrowthRatio': 171.1051599922731, 'priceSalesRatio': 7.040694735932791, 'dividendYield': 0.005567716869977173, 'enterpriseValueMultiple': 22.092796708488315, 'priceFairValue': 43.423433235638655}\n"
     ]
    }
   ],
   "source": [
    "output = \"\"\n",
    "print(f'Company Name: {company_name}')\n",
    "output+='this is the data of '+ company_name\n",
    "# Liquidity ratios\n",
    "print(' Liquidity Ratios:')\n",
    "# output += ' ,Liquidity Ratios:'\n",
    "Balance_Sheet=requests.get(f'https://financialmodelingprep.com/api/v3/balance-sheet-statement/{symbol}?period=annual&apikey={ratio_key}')\n",
    "# leverage_financial_ratio Current ratio = Current assets / Current liabilities\n",
    "if not Balance_Sheet.json():\n",
    "    print('No Data')\n",
    "\n",
    "else:\n",
    "    current_assets=Balance_Sheet.json()[0]['totalCurrentAssets']\n",
    "    current_liabilities=Balance_Sheet.json()[0]['totalCurrentLiabilities']\n",
    "    current_ratio=current_assets/current_liabilities\n",
    "    date=Balance_Sheet.json()[0]['date']\n",
    "    print(date)\n",
    "    output += f\", {date}\"\n",
    "    print('Current Ratio: '+ str(current_ratio))\n",
    "    output += f\", Current Ratio: {current_ratio}\"\n",
    "\n",
    "    if 1.2 <= current_ratio <= 2:\n",
    "        print(\"A current ratio of\", current_ratio, \"is considered good. The business has enough current assets to cover its short-term liabilities.\")\n",
    "        output += f\", A current ratio of {current_ratio} is considered good. The business has enough current assets to cover its short-term liabilities.\"\n",
    "    elif current_ratio < 1:\n",
    "        print(\"A current ratio of\", current_ratio, \"is below 1. This means that the company may not have enough liquid assets to cover its short-term liabilities.\")\n",
    "        output += f\", A current ratio of {current_ratio} is below 1. This means that the company may not have enough liquid assets to cover its short-term liabilities.\"\n",
    "    else:\n",
    "        print(\"The current ratio of\", current_ratio, \"is within an acceptable range, but it's not considered optimal.\")\n",
    "        output += f\", A current ratio of {current_ratio} is within an acceptable range, but it's not considered optimal.\"\n",
    "# Acid Test Ratio current assets - inventories/current liabilties \"totalCurrentLiabilities\"\n",
    "inventory=Balance_Sheet.json()[0]['inventory']    \n",
    "atr = (current_assets - inventory) / current_liabilities\n",
    "print('Acid Test Ratio: ' + str(atr))\n",
    "output += f\", Acid Test Ratio: {atr}\"\n",
    "if atr > 1:\n",
    "    print(\"An acid test ratio of\", atr, \"means that the company does have enough liquid assets to cover its short-term debts\")\n",
    "    output +=\" ,An acid test ratio of\", atr, \"means that the company does have enough liquid assets to cover its short-term debts\"\n",
    "elif atr < 1:\n",
    "    print(\"An acid test ratio of\", atr, \"means that the company does not have enough liquid assets to cover its short-term debts\")\n",
    "    \n",
    "else:\n",
    "    print(\"The acid test ratio\", atr, \"means that the company has just enough to cover its short-term debts\")\n",
    "    output +=\" ,The acid test ratio\", atr, \"means that the company has just enough to cover its short-term debts\"\n",
    "\n",
    "# operatingCashFlow (opcf) = Operating cash flow / Current liabilities    \n",
    "Cash_Flow=requests.get(f'https://financialmodelingprep.com/api/v3/cash-flow-statement/{symbol}?period=annual&apikey={ratio_key}')\n",
    "opc=Cash_Flow.json()[0][\"operatingCashFlow\"]\n",
    "opcf=opc/current_liabilities\n",
    "print(\"Operating Cash Flow: \"+ str(opcf))\n",
    "output += f\", Operating Cash Flow: {opcf}\"\n",
    "if opcf < 1:\n",
    "    print ('An operating Cash Flow of less than one indicates that a company s core business operations are not generating enough cash to cover its current operating expenses.')\n",
    "    output +=' ,An operating Cash Flow of less than one indicates that a company s core business operations are not generating enough cash to cover its current operating expenses.'\n",
    "elif opcf > 1:\n",
    "    print(\"OCF greater than 1 is a positive indicator for a company's financial health. It signifies that the company's core business operations are generating enough cash to cover its current operating expenses\")\n",
    "    output +=\" ,OCF greater than 1 is a positive indicator for a company's financial health. It signifies that the company's core business operations are generating enough cash to cover its current operating expenses\"\n",
    "else:\n",
    "    print(\" company's core business operations are generating just enough cash to cover its current operating expenses.\")\n",
    "    output +=\" ,company's core business operations are generating just enough cash to cover its current operating expenses.\"\n",
    "\n",
    "# Profitability Ratios\n",
    "print('Profitability Ratios:')\n",
    "output +=' ,Profitability Ratios:'\n",
    "# Gross margin ratio = Gross profit / Net sales\n",
    "Income_statement=requests.get(f'https://financialmodelingprep.com/api/v3/income-statement/{symbol}?period=annual&apikey={ratio_key}')\n",
    "GPR=Income_statement.json()[0][\"grossProfitRatio\"]\n",
    "GPR=GPR*100\n",
    "print(\"Gross Profit Ratio: \"+ str(GPR)+' %')\n",
    "output +=\" Gross Profit Ratio: \"+ str(GPR)+' %'\n",
    "\n",
    "Ratos=requests.get(f'https://financialmodelingprep.com/api/v3/ratios/{symbol}?apikey={ratio_key}')\n",
    "data=Ratos.json()[0]\n",
    "output+='this is the data of '+ company_name\n",
    "output += f\",  {data}\"\n",
    "print(output)                                                                                 "
   ]
  },
  {
   "cell_type": "code",
   "execution_count": 18,
   "metadata": {},
   "outputs": [
    {
     "name": "stdout",
     "output_type": "stream",
     "text": [
      "apple\n",
      "2023-09-30\n",
      "Based\n"
     ]
    }
   ],
   "source": [
    "print(company_name)\n",
    "print(date)\n",
    "def generate_conclusion(output):\n",
    "    api_key = os.getenv(\"OPENAI_API_KEY\")\n",
    "    \n",
    "    headers = {\n",
    "        \"Content-Type\": \"application/json\",\n",
    "        \"Authorization\": f\"Bearer {api_key}\"\n",
    "    }\n",
    "    \n",
    "    data = {\n",
    "        \"model\": \"gpt-3.5-turbo\",\n",
    "        \"messages\": [\n",
    "            {\"role\": \"system\", \"content\": \"You are a helpful assistant.\"},\n",
    "            {\"role\": \"user\", \"content\": f\" use all the ratios and catograize them with that give a review of the financial health of the company : {output}\"}\n",
    "        ],\n",
    "        \"max_tokens\": 1, \n",
    "        \"temperature\": 0.5 \n",
    "    }\n",
    "    \n",
    "    response = requests.post(\"https://api.openai.com/v1/chat/completions\", headers=headers, json=data)\n",
    "    \n",
    "    if response.status_code == 200:\n",
    "        try:\n",
    "            conclusion = response.json()['choices'][0]['message']['content']\n",
    "            return conclusion\n",
    "        except KeyError as e:\n",
    "            raise KeyError(f\"Expected key not found in response: {e}\")\n",
    "    else:\n",
    "        try:\n",
    "            error_message = response.json().get('error', {}).get('message', 'Unknown error')\n",
    "        except ValueError:\n",
    "            error_message = \"Failed to parse error message from response.\"\n",
    "        raise Exception(f\"Error: {response.status_code}, {error_message}\")\n",
    "\n",
    "try:\n",
    "    conclusion = generate_conclusion(output)\n",
    "    print(conclusion)\n",
    "except Exception as e:\n",
    "    print(f\"An error occurred: {e}\")\n"
   ]
  },
  {
   "cell_type": "code",
   "execution_count": null,
   "metadata": {},
   "outputs": [],
   "source": []
  }
 ],
 "metadata": {
  "kernelspec": {
   "display_name": "Python 3",
   "language": "python",
   "name": "python3"
  },
  "language_info": {
   "codemirror_mode": {
    "name": "ipython",
    "version": 3
   },
   "file_extension": ".py",
   "mimetype": "text/x-python",
   "name": "python",
   "nbconvert_exporter": "python",
   "pygments_lexer": "ipython3",
   "version": "3.12.1"
  }
 },
 "nbformat": 4,
 "nbformat_minor": 2
}
