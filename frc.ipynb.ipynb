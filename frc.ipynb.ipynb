{
 "cells": [
  {
   "cell_type": "code",
   "execution_count": 5,
   "metadata": {},
   "outputs": [
    {
     "name": "stdout",
     "output_type": "stream",
     "text": [
      "MSFT.NE\n"
     ]
    }
   ],
   "source": [
    "import requests\n",
    "company_name=input('Company name: ')\n",
    "Company_profile=requests.get(f'https://financialmodelingprep.com/api/v3/search?query={company_name}&apikey=L7rFmF4kHeMh9H6f5pz5DehLND8DZ5Oz')\n",
    "symbol=Company_profile.json()[0]['symbol']\n",
    "print(symbol)\n",
    "\n"
   ]
  },
  {
   "cell_type": "code",
   "execution_count": 6,
   "metadata": {},
   "outputs": [
    {
     "name": "stdout",
     "output_type": "stream",
     "text": [
      "2023-06-30\n",
      "Current Ratio: 1.76916725076573\n",
      "A current ratio of 1.76916725076573 is considered good. The business has enough current assets to cover its short-term liabilities.\n",
      "Acid Test Ratio: 1.745163179675273\n",
      "An acid test ratio of 1.745163179675273 means that the company does have enough liquid assets to cover its short-term debts\n",
      "Operating Cash Flow: 0.84092982169776\n"
     ]
    }
   ],
   "source": [
    "Balance_Sheet=requests.get(f'https://financialmodelingprep.com/api/v3/balance-sheet-statement/{symbol}?period=annual&apikey=L7rFmF4kHeMh9H6f5pz5DehLND8DZ5Oz')\n",
    "# leverage_financial_ratio Current ratio = Current assets / Current liabilities\n",
    "if not Balance_Sheet.json():\n",
    "    print('No Data')\n",
    "else:\n",
    "    current_assets=Balance_Sheet.json()[0]['totalCurrentAssets']\n",
    "    current_liabilities=Balance_Sheet.json()[0]['totalCurrentLiabilities']\n",
    "    current_ratio=current_assets/current_liabilities\n",
    "    date=Balance_Sheet.json()[0]['date']\n",
    "    print(date)\n",
    "    print('Current Ratio: '+ str(current_ratio))\n",
    "    if 1.2 <= current_ratio <= 2:\n",
    "        print(\"A current ratio of\", current_ratio, \"is considered good. The business has enough current assets to cover its short-term liabilities.\")\n",
    "    elif current_ratio < 1:\n",
    "        print(\"A current ratio of\", current_ratio, \"is below 1. This means that the company may not have enough liquid assets to cover its short-term liabilities.\")\n",
    "    else:\n",
    "        print(\"The current ratio of\", current_ratio, \"is within an acceptable range, but it's not considered optimal.\")\n",
    "# Acid Test Ratio current assets - inventories/current liabilties \"totalCurrentLiabilities\"\n",
    "inventory=Balance_Sheet.json()[0]['inventory']    \n",
    "atr = (current_assets - inventory) / current_liabilities\n",
    "print('Acid Test Ratio: ' + str(atr))\n",
    "if atr > 1:\n",
    "    print(\"An acid test ratio of\", atr, \"means that the company does have enough liquid assets to cover its short-term debts\")\n",
    "elif atr < 1:\n",
    "    print(\"An acid test ratio of\", atr, \"means that the company does not have enough liquid assets to cover its short-term debts\")\n",
    "else:\n",
    "    print(\"The acid test ratio\", atr, \"means that the company has just enough to cover its short-term debts\")\n",
    "\n",
    "# operatingCashFlow (opcf) = Operating cash flow / Current liabilities    \n",
    "Cash_Flow=requests.get(f'https://financialmodelingprep.com/api/v3/cash-flow-statement/{symbol}?period=annual&apikey=L7rFmF4kHeMh9H6f5pz5DehLND8DZ5Oz')\n",
    "opc=Cash_Flow.json()[0][\"operatingCashFlow\"]\n",
    "opcf=opc/current_liabilities\n",
    "print(\"Operating Cash Flow: \"+ str(opcf))\n",
    "                                                                                              "
   ]
  },
  {
   "cell_type": "code",
   "execution_count": 3,
   "metadata": {},
   "outputs": [],
   "source": [
    "# Efficiency Ratios\n",
    "# atr Asset turnover ratio = Net sales / Average total assets\n"
   ]
  }
 ],
 "metadata": {
  "kernelspec": {
   "display_name": "Python 3",
   "language": "python",
   "name": "python3"
  },
  "language_info": {
   "codemirror_mode": {
    "name": "ipython",
    "version": 3
   },
   "file_extension": ".py",
   "mimetype": "text/x-python",
   "name": "python",
   "nbconvert_exporter": "python",
   "pygments_lexer": "ipython3",
   "version": "3.12.1"
  }
 },
 "nbformat": 4,
 "nbformat_minor": 2
}
